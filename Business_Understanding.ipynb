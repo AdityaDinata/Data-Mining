{
  "nbformat": 4,
  "nbformat_minor": 0,
  "metadata": {
    "colab": {
      "provenance": []
    },
    "kernelspec": {
      "name": "python3",
      "display_name": "Python 3"
    },
    "language_info": {
      "name": "python"
    }
  },
  "cells": [
    {
      "cell_type": "markdown",
      "source": [
        "# Analisis Performa Hero dalam Kejuaraan M5 World Championship\n",
        "\n",
        "## Business Understanding\n",
        "\n",
        "M5 World Championship adalah kejuaraan Mobile Legends Bang Bang (MLBB) tertinggi di dunia, yang sering dijadikan tolok ukur bagi pemain MLBB. Analisis ini bertujuan untuk memberikan wawasan tentang performa hero di kejuaraan M5 agar para pemain MLBB dapat memilih hero dengan lebih baik.\n",
        "\n",
        "### Business Objective\n",
        "\n",
        "Tujuan utama analisis ini adalah untuk memberikan pemain Mobile Legends pemahaman yang lebih baik tentang hero mana yang paling efektif dan populer di M5 World Championship, serta menganalisis tren meta yang dominan selama kejuaraan tersebut.\n",
        "\n",
        "### Problem Statement\n",
        "\n",
        "Pertumbuhan pesat industri e-sports dan popularitas MLBB membuat para pemain semakin tertarik untuk memahami hero dan tren meta di level kompetisi tingkat dunia. Namun, kurangnya pemahaman yang mendalam tentang kinerja hero dan tren meta di M5 World Championship menjadi hambatan bagi para pemain dalam membuat keputusan strategis dalam permainan.\n",
        "\n",
        "### Goals\n",
        "\n",
        "1. **Menganalisis Kinerja Hero:** Meneliti kinerja berbagai hero yang digunakan dalam M5 World Championship untuk mengidentifikasi hero yang efektif dan populer.\n",
        "\n",
        "2. **Menganalisis Meta Permainan:** Memeriksa tren meta permainan yang dominan dalam M5 World Championship untuk memberikan wawasan tentang strategi dan gaya bermain yang efektif.\n",
        "\n",
        "3. **Memberikan Rekomendasi kepada Pemain:** Memberikan rekomendasi kepada pemain MLBB tentang pilihan hero berdasarkan kinerja mereka di M5 World Championship.\n",
        "\n",
        "4. **Membantu Pemain dalam Pengambilan Keputusan:** Membantu pemain MLBB dalam membuat keputusan strategis dalam pemilihan hero dan gaya bermain mereka dengan menyediakan informasi yang relevan tentang kinerja hero dan tren meta permainan.\n",
        "\n",
        "### Project Plan\n",
        "\n",
        "1. **Data Collection**: Mengumpulkan data kinerja hero dari sumber terpercaya, seperti statistik pick, win, dan loss.\n",
        "2. **Data Preprocessing**: Membersihkan dan mempersiapkan data untuk analisis dengan menghilangkan entri yang tidak relevan atau tidak lengkap.\n",
        "3. **Exploratory Data Analysis (EDA)**: Mengeksplorasi distribusi, tren, dan pola kinerja hero melalui visualisasi data.\n",
        "4. **Advanced Analysis**: Melakukan analisis lebih lanjut untuk mengidentifikasi hero dominan dan tren strategi yang efektif.\n",
        "5. **Visualization**: Membuat visualisasi untuk menyajikan hasil analisis dengan jelas dan mudah dimengerti.\n",
        "6. **Documentation**: Mendokumentasikan metodologi, temuan, dan rekomendasi dalam sebuah laporan.\n",
        "7. **Validation and Iteration**: Melakukan validasi hasil analisis dan iterasi tambahan jika diperlukan untuk memastikan kualitas dan keakuratan analisis.\n",
        "\n"
      ],
      "metadata": {
        "id": "VpbWu3EgcMIY"
      }
    }
  ]
}